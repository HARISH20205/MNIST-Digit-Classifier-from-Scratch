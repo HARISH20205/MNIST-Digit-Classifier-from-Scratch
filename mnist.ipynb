{
  "nbformat": 4,
  "nbformat_minor": 0,
  "metadata": {
    "colab": {
      "provenance": []
    },
    "kernelspec": {
      "name": "python3",
      "display_name": "Python 3"
    },
    "language_info": {
      "name": "python"
    }
  },
  "cells": [
    {
      "cell_type": "code",
      "execution_count": 1,
      "metadata": {
        "colab": {
          "base_uri": "https://localhost:8080/",
          "height": 799
        },
        "id": "pwaJkxN3a535",
        "outputId": "a80d61f7-5f00-49fa-f469-e6301fa06153"
      },
      "outputs": [
        {
          "output_type": "stream",
          "name": "stdout",
          "text": [
            "Downloading data from https://storage.googleapis.com/tensorflow/tf-keras-datasets/mnist.npz\n",
            "11490434/11490434 [==============================] - 0s 0us/step\n",
            "Epoch 0, Loss: 2.3016257293318723, Accuracy: 0.11236666666666667\n",
            "Epoch 100, Loss: 2.282370413574245, Accuracy: 0.11306666666666666\n",
            "Epoch 200, Loss: 2.133786710886112, Accuracy: 0.36656666666666665\n",
            "Epoch 300, Loss: 1.6736854882605139, Accuracy: 0.55895\n",
            "Epoch 400, Loss: 1.246369045167902, Accuracy: 0.6857833333333333\n",
            "Epoch 500, Loss: 0.9788800961241085, Accuracy: 0.7600333333333333\n",
            "Epoch 600, Loss: 0.8093288575192734, Accuracy: 0.80215\n",
            "Epoch 700, Loss: 0.6973533414823075, Accuracy: 0.8277333333333333\n",
            "Epoch 800, Loss: 0.6202772184460775, Accuracy: 0.8447166666666667\n",
            "Epoch 900, Loss: 0.5643193897901955, Accuracy: 0.8580666666666666\n",
            "Test Loss: 0.5054518149260228, Test Accuracy: 0.8728\n"
          ]
        },
        {
          "output_type": "display_data",
          "data": {
            "text/plain": [
              "<Figure size 640x480 with 1 Axes>"
            ],
            "image/png": "[encoded data removed]"
          },
          "metadata": {}
        },
        {
          "output_type": "stream",
          "name": "stdout",
          "text": [
            "Probability scores: [[1.07204379e-03 1.64591157e-04 4.31646551e-04 4.28512234e-03\n",
            "  7.70490736e-04 2.37221704e-03 1.03848981e-05 9.62363582e-01\n",
            "  6.85337658e-04 2.78445838e-02]]\n",
            "Max probability: 0.9623635820329752\n",
            "Predicted digit: 7\n"
          ]
        }
      ],
      "source": [
        "import numpy as np\n",
        "import tensorflow as tf\n",
        "import matplotlib.pyplot as plt\n",
        "\n",
        "# Load and preprocess the MNIST dataset\n",
        "mnist = tf.keras.datasets.mnist\n",
        "(x_train, y_train), (x_test, y_test) = mnist.load_data()\n",
        "\n",
        "# Normalize the images to [0, 1] range\n",
        "x_train, x_test = x_train / 255.0, x_test / 255.0\n",
        "\n",
        "# Flatten the images\n",
        "x_train = x_train.reshape(-1, 28*28)\n",
        "x_test = x_test.reshape(-1, 28*28)\n",
        "\n",
        "# Convert labels to one-hot encoding\n",
        "y_train = np.eye(10)[y_train]\n",
        "y_test = np.eye(10)[y_test]\n",
        "\n",
        "# Helper functions\n",
        "def sigmoid(x):\n",
        "    return 1 / (1 + np.exp(-x))\n",
        "\n",
        "def sigmoid_derivative(x):\n",
        "    return x * (1 - x)\n",
        "\n",
        "def softmax(x):\n",
        "    exps = np.exp(x - np.max(x, axis=1, keepdims=True))\n",
        "    return exps / np.sum(exps, axis=1, keepdims=True)\n",
        "\n",
        "def cross_entropy_loss(y_true, y_pred):\n",
        "    n_samples = y_true.shape[0]\n",
        "    logp = - np.log(y_pred[np.arange(n_samples), y_true.argmax(axis=1)])\n",
        "    loss = np.sum(logp) / n_samples\n",
        "    return loss\n",
        "\n",
        "def compute_accuracy(y_true, y_pred):\n",
        "    accuracy = np.sum(np.argmax(y_true, axis=1) == np.argmax(y_pred, axis=1)) / y_true.shape[0]\n",
        "    return accuracy\n",
        "\n",
        "# Neural Network parameters\n",
        "input_size = 28 * 28\n",
        "hidden_size = 64\n",
        "output_size = 10\n",
        "learning_rate = 0.1\n",
        "epochs = 1000\n",
        "\n",
        "# Initialize weights and biases\n",
        "np.random.seed(42)\n",
        "W1 = np.random.randn(input_size, hidden_size) * 0.01\n",
        "b1 = np.zeros((1, hidden_size))\n",
        "W2 = np.random.randn(hidden_size, output_size) * 0.01\n",
        "b2 = np.zeros((1, output_size))\n",
        "\n",
        "# Training the network\n",
        "for epoch in range(epochs):\n",
        "    # Forward pass\n",
        "    z1 = np.dot(x_train, W1) + b1\n",
        "    a1 = sigmoid(z1)\n",
        "    z2 = np.dot(a1, W2) + b2\n",
        "    a2 = softmax(z2)\n",
        "\n",
        "    # Compute loss\n",
        "    loss = cross_entropy_loss(y_train, a2)\n",
        "\n",
        "    # Backward pass\n",
        "    dz2 = a2 - y_train\n",
        "    dW2 = np.dot(a1.T, dz2) / x_train.shape[0]\n",
        "    db2 = np.sum(dz2, axis=0, keepdims=True) / x_train.shape[0]\n",
        "\n",
        "    da1 = np.dot(dz2, W2.T)\n",
        "    dz1 = da1 * sigmoid_derivative(a1)\n",
        "    dW1 = np.dot(x_train.T, dz1) / x_train.shape[0]\n",
        "    db1 = np.sum(dz1, axis=0, keepdims=True) / x_train.shape[0]\n",
        "\n",
        "    # Update weights and biases\n",
        "    W2 -= learning_rate * dW2\n",
        "    b2 -= learning_rate * db2\n",
        "    W1 -= learning_rate * dW1\n",
        "    b1 -= learning_rate * db1\n",
        "\n",
        "    # Print loss and accuracy\n",
        "    if epoch % 100 == 0:\n",
        "        train_loss = loss\n",
        "        train_accuracy = compute_accuracy(y_train, a2)\n",
        "        print(f\"Epoch {epoch}, Loss: {train_loss}, Accuracy: {train_accuracy}\")\n",
        "\n",
        "# Evaluate on the test set\n",
        "z1_test = np.dot(x_test, W1) + b1\n",
        "a1_test = sigmoid(z1_test)\n",
        "z2_test = np.dot(a1_test, W2) + b2\n",
        "a2_test = softmax(z2_test)\n",
        "\n",
        "test_loss = cross_entropy_loss(y_test, a2_test)\n",
        "test_accuracy = compute_accuracy(y_test, a2_test)\n",
        "print(f\"Test Loss: {test_loss}, Test Accuracy: {test_accuracy}\")\n",
        "\n",
        "# Function to display image and prediction details\n",
        "def display_prediction(image, prediction, true_label=None):\n",
        "    plt.imshow(image.reshape(28, 28), cmap='gray')\n",
        "    plt.title(f'Predicted: {np.argmax(prediction)}, Probability: {np.max(prediction):.4f}')\n",
        "    if true_label is not None:\n",
        "        plt.xlabel(f'True Label: {true_label}')\n",
        "    plt.show()\n",
        "    print(\"Probability scores:\", prediction)\n",
        "    print(\"Max probability:\", np.max(prediction))\n",
        "    print(\"Predicted digit:\", np.argmax(prediction))\n",
        "\n",
        "index = 0  # Change the index to test with different images\n",
        "single_image = x_test[index]\n",
        "single_image_prediction = softmax(np.dot(sigmoid(np.dot(single_image, W1) + b1), W2) + b2)\n",
        "\n",
        "display_prediction(x_test[index], single_image_prediction, np.argmax(y_test[index]))\n"
      ]
    },
    {
      "cell_type": "code",
      "source": [
        "import random\n",
        "\n",
        "index = random.randint(0,9999)\n",
        "single_image = x_test[index]\n",
        "single_image_prediction = softmax(np.dot(sigmoid(np.dot(single_image, W1) + b1), W2) + b2)\n",
        "\n",
        "display_prediction(x_test[index], single_image_prediction, np.argmax(y_test[index]))\n"
      ],
      "metadata": {
        "colab": {
          "base_uri": "https://localhost:8080/",
          "height": 563
        },
        "id": "kE27ajnja6me",
        "outputId": "a7fedd93-cff8-4a99-ea72-a102df7abb81"
      },
      "execution_count": 16,
      "outputs": [
        {
          "output_type": "display_data",
          "data": {
            "text/plain": [
              "<Figure size 640x480 with 1 Axes>"
            ],
            "image/png": "[encoded data removed]"
          },
          "metadata": {}
        },
        {
          "output_type": "stream",
          "name": "stdout",
          "text": [
            "Probability scores: [[2.86825689e-04 1.39774720e-03 3.05014854e-04 2.44368190e-03\n",
            "  1.17391423e-01 2.06894665e-02 9.15772350e-04 1.48147698e-01\n",
            "  1.81253914e-02 6.90296980e-01]]\n",
            "Max probability: 0.6902969800041447\n",
            "Predicted digit: 9\n"
          ]
        }
      ]
    },
    {
      "cell_type": "code",
      "source": [],
      "metadata": {
        "id": "bj605Asierbp"
      },
      "execution_count": null,
      "outputs": []
    }
  ]
}